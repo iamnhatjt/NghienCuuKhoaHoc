{
 "cells": [
  {
   "cell_type": "code",
   "execution_count": null,
   "id": "ac12f272",
   "metadata": {},
   "outputs": [],
   "source": [
    "!pip install ultralytics"
   ]
  },
  {
   "cell_type": "code",
   "execution_count": null,
   "id": "2562a351",
   "metadata": {},
   "outputs": [],
   "source": [
    "!yolo task=detect mode=predict model=yolov8n.pt source=\"https://nextcity.org/images/made/219951734_2838e034bb_o_840_630_80.jpg\""
   ]
  },
  {
   "cell_type": "code",
   "execution_count": null,
   "id": "71b379aa",
   "metadata": {},
   "outputs": [],
   "source": [
    "#with first data, refactor%cd /content/drive/MyDrive\n",
    "!rm data/mydataset.yaml # nếu có file thì xóa\n",
    "!echo 'train: /content/drive/MyDrive/data/train' >> data/mydataset.yaml\n",
    "!echo 'val: /content/drive/MyDrive/data/train' >> data/mydataset.yaml\n",
    "!echo 'nc: 1' >> data/mydataset.yaml\n",
    "!echo \"names: ['fire']\" >> data/mydataset.yaml"
   ]
  },
  {
   "cell_type": "code",
   "execution_count": null,
   "id": "5e86f67c",
   "metadata": {},
   "outputs": [],
   "source": [
    "!yolo task=detect mode=train model=yolov8n.pt data=data/mydataset.yaml epochs=50 imgsz=640"
   ]
  }
 ],
 "metadata": {
  "kernelspec": {
   "display_name": "Python 3 (ipykernel)",
   "language": "python",
   "name": "python3"
  },
  "language_info": {
   "codemirror_mode": {
    "name": "ipython",
    "version": 3
   },
   "file_extension": ".py",
   "mimetype": "text/x-python",
   "name": "python",
   "nbconvert_exporter": "python",
   "pygments_lexer": "ipython3",
   "version": "3.9.12"
  }
 },
 "nbformat": 4,
 "nbformat_minor": 5
}
